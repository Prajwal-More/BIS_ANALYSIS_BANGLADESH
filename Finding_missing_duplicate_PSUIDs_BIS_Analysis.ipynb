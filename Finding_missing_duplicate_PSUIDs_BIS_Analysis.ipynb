{
  "nbformat": 4,
  "nbformat_minor": 0,
  "metadata": {
    "colab": {
      "provenance": []
    },
    "kernelspec": {
      "name": "python3",
      "display_name": "Python 3"
    },
    "language_info": {
      "name": "python"
    }
  },
  "cells": [
    {
      "cell_type": "markdown",
      "source": [
        "**Task Introduction:** In the scope of a comprehensive building identification survey conducted in Bangladesh, encompassing over 30,000 individual surveys, my role as an analyst was pivotal in ensuring data integrity and coherence. Tasked with the meticulous identification of duplicate PSUIDs (Public Service Unit Identification), rectification of missing PSUID entries, and the allocation of unique PSUIDs for each survey within a vast array of grid numbers, totaling over 245 grids, my efforts were focused on maintaining the accuracy and reliability of the dataset. Ultimately, this involved organizing the data into distinct files, meticulously curated and formatted for clarity and accessibility, using Excel as the chosen platform."
      ],
      "metadata": {
        "id": "MlEIz4bvJP37"
      }
    },
    {
      "cell_type": "code",
      "source": [
        "import pandas as pd\n",
        "data = pd.read_csv(\"responses 2024-04-05.csv\")      # importing the file\n",
        "df = pd.read_excel(\"Total_No_Surveys(BIS) proposed Building Code.xlsx\")            # excel storing the details of PSU ID to be surveyed for each grid"
      ],
      "metadata": {
        "id": "sJRfwYvu8axp"
      },
      "execution_count": 1,
      "outputs": []
    },
    {
      "cell_type": "markdown",
      "source": [
        "### **Understanding data**"
      ],
      "metadata": {
        "id": "StLbJEolXRdA"
      }
    },
    {
      "cell_type": "code",
      "source": [
        "data.shape"
      ],
      "metadata": {
        "id": "t4E0Xx0wJHcR",
        "colab": {
          "base_uri": "https://localhost:8080/"
        },
        "outputId": "adb75d3d-c967-41f4-ca14-f22ec9fcd394"
      },
      "execution_count": 3,
      "outputs": [
        {
          "output_type": "execute_result",
          "data": {
            "text/plain": [
              "(31072, 31)"
            ]
          },
          "metadata": {},
          "execution_count": 3
        }
      ]
    },
    {
      "cell_type": "code",
      "source": [
        "data.columns"
      ],
      "metadata": {
        "colab": {
          "base_uri": "https://localhost:8080/"
        },
        "id": "IHNEDXxc12Ko",
        "outputId": "decf8b38-5cca-4b34-fff3-41ec9c69fe42"
      },
      "execution_count": 4,
      "outputs": [
        {
          "output_type": "execute_result",
          "data": {
            "text/plain": [
              "Index(['Deployment', 'Enumerator', 'Status', 'Response Code', 'Drafted On',\n",
              "       'Submitted On', 'Approval Level', 'Rejection message',\n",
              "       'Number of Rejections', 'Number of Edits', 'IP Address', 'Grid No (1)',\n",
              "       'Grid No (2)', 'Is there a building?', 'Building Code (1)',\n",
              "       'Building Code (2)', 'Location of the Building (latitude)',\n",
              "       'Location of the Building (longitude)',\n",
              "       'Location of the Building (method)',\n",
              "       'Location of the Building (administrative region)',\n",
              "       'Location of the Building (accuracy)',\n",
              "       'Location of the Building (altitude)', 'What is the type of building?',\n",
              "       'What is the type of building? (Other (please specify)) - specify',\n",
              "       'Building Category',\n",
              "       'Building Category (Other (please specify)) - specify',\n",
              "       'Uses of Holding', 'Uses of Holding (Other (please specify)) - specify',\n",
              "       'No of floors/storey of the building',\n",
              "       'No of floors/storey of the building (If number of floor > 12, mention the number) - specify',\n",
              "       'Take a photo of the building. '],\n",
              "      dtype='object')"
            ]
          },
          "metadata": {},
          "execution_count": 4
        }
      ]
    },
    {
      "cell_type": "code",
      "source": [
        "data.head()"
      ],
      "metadata": {
        "colab": {
          "base_uri": "https://localhost:8080/",
          "height": 568
        },
        "id": "4QnO7P4417CE",
        "outputId": "0e87749d-38f2-4773-b029-82c54c955497"
      },
      "execution_count": 5,
      "outputs": [
        {
          "output_type": "execute_result",
          "data": {
            "text/plain": [
              "                       Deployment      Enumerator Status  \\\n",
              "0  Building Identification Survey   DSK_Bldg_EN 7  Final   \n",
              "1  Building Identification Survey   DSK_Bldg_EN 7  Final   \n",
              "2  Building Identification Survey   DSK_Bldg_EN 7  Final   \n",
              "3  Building Identification Survey  DSK_Bldg_EN 12  Final   \n",
              "4  Building Identification Survey   DSK_Bldg_EN 1  Final   \n",
              "\n",
              "           Response Code      Drafted On    Submitted On  Approval Level  \\\n",
              "0   DSK_Bldg_EN 7-BYXTP8   2/4/2024 9:28   2/4/2024 9:35             NaN   \n",
              "1   DSK_Bldg_EN 7-BYXXE3  2/4/2024 10:32  2/4/2024 10:33             NaN   \n",
              "2   DSK_Bldg_EN 7-BYXYST  2/4/2024 10:55  2/4/2024 11:07             NaN   \n",
              "3  DSK_Bldg_EN 12-BYXUDK   2/4/2024 9:40   2/5/2024 7:16             NaN   \n",
              "4   DSK_Bldg_EN 1-BYXWMJ  2/4/2024 10:18   2/5/2024 8:18             NaN   \n",
              "\n",
              "  Rejection message  Number of Rejections  Number of Edits  ...  \\\n",
              "0               NaN                     0                1  ...   \n",
              "1               NaN                     0                1  ...   \n",
              "2               NaN                     0                1  ...   \n",
              "3               NaN                     0                1  ...   \n",
              "4               NaN                     0                1  ...   \n",
              "\n",
              "  Location of the Building (altitude) What is the type of building?  \\\n",
              "0                                 NaN                         Pucca   \n",
              "1                                 NaN                         Pucca   \n",
              "2                                 NaN                         Pucca   \n",
              "3                                 NaN                         Pucca   \n",
              "4                                 NaN                         Pucca   \n",
              "\n",
              "   What is the type of building? (Other (please specify)) - specify  \\\n",
              "0                                                NaN                  \n",
              "1                                                NaN                  \n",
              "2                                                NaN                  \n",
              "3                                                NaN                  \n",
              "4                                                NaN                  \n",
              "\n",
              "  Building Category Building Category (Other (please specify)) - specify  \\\n",
              "0        Commercial                                                NaN     \n",
              "1             Mixed                                                NaN     \n",
              "2        Commercial                                                NaN     \n",
              "3      Residential                                                 NaN     \n",
              "4      Residential                                                 NaN     \n",
              "\n",
              "       Uses of Holding  Uses of Holding (Other (please specify)) - specify  \\\n",
              "0                 Shop                                                NaN    \n",
              "1                  NaN                                                NaN    \n",
              "2                 Shop                                                NaN    \n",
              "3  Single Storey House                                                NaN    \n",
              "4  Single Storey House                                                NaN    \n",
              "\n",
              "   No of floors/storey of the building  \\\n",
              "0                                    1   \n",
              "1                                    2   \n",
              "2                                    1   \n",
              "3                                    1   \n",
              "4                                    1   \n",
              "\n",
              "  No of floors/storey of the building (If number of floor > 12, mention the number) - specify  \\\n",
              "0                                                NaN                                            \n",
              "1                                                NaN                                            \n",
              "2                                                NaN                                            \n",
              "3                                                NaN                                            \n",
              "4                                                NaN                                            \n",
              "\n",
              "                      Take a photo of the building.   \n",
              "0  https://api.mwater.co/v3/images/d576c4f127c245...  \n",
              "1  https://api.mwater.co/v3/images/d61063d6cd8e44...  \n",
              "2  https://api.mwater.co/v3/images/06058f54b2ed4c...  \n",
              "3  https://api.mwater.co/v3/images/f6a85b90538a44...  \n",
              "4  https://api.mwater.co/v3/images/7fda43848ca744...  \n",
              "\n",
              "[5 rows x 31 columns]"
            ],
            "text/html": [
              "\n",
              "  <div id=\"df-756db053-c7b2-474c-bc86-e9680d7044c4\" class=\"colab-df-container\">\n",
              "    <div>\n",
              "<style scoped>\n",
              "    .dataframe tbody tr th:only-of-type {\n",
              "        vertical-align: middle;\n",
              "    }\n",
              "\n",
              "    .dataframe tbody tr th {\n",
              "        vertical-align: top;\n",
              "    }\n",
              "\n",
              "    .dataframe thead th {\n",
              "        text-align: right;\n",
              "    }\n",
              "</style>\n",
              "<table border=\"1\" class=\"dataframe\">\n",
              "  <thead>\n",
              "    <tr style=\"text-align: right;\">\n",
              "      <th></th>\n",
              "      <th>Deployment</th>\n",
              "      <th>Enumerator</th>\n",
              "      <th>Status</th>\n",
              "      <th>Response Code</th>\n",
              "      <th>Drafted On</th>\n",
              "      <th>Submitted On</th>\n",
              "      <th>Approval Level</th>\n",
              "      <th>Rejection message</th>\n",
              "      <th>Number of Rejections</th>\n",
              "      <th>Number of Edits</th>\n",
              "      <th>...</th>\n",
              "      <th>Location of the Building (altitude)</th>\n",
              "      <th>What is the type of building?</th>\n",
              "      <th>What is the type of building? (Other (please specify)) - specify</th>\n",
              "      <th>Building Category</th>\n",
              "      <th>Building Category (Other (please specify)) - specify</th>\n",
              "      <th>Uses of Holding</th>\n",
              "      <th>Uses of Holding (Other (please specify)) - specify</th>\n",
              "      <th>No of floors/storey of the building</th>\n",
              "      <th>No of floors/storey of the building (If number of floor &gt; 12, mention the number) - specify</th>\n",
              "      <th>Take a photo of the building.</th>\n",
              "    </tr>\n",
              "  </thead>\n",
              "  <tbody>\n",
              "    <tr>\n",
              "      <th>0</th>\n",
              "      <td>Building Identification Survey</td>\n",
              "      <td>DSK_Bldg_EN 7</td>\n",
              "      <td>Final</td>\n",
              "      <td>DSK_Bldg_EN 7-BYXTP8</td>\n",
              "      <td>2/4/2024 9:28</td>\n",
              "      <td>2/4/2024 9:35</td>\n",
              "      <td>NaN</td>\n",
              "      <td>NaN</td>\n",
              "      <td>0</td>\n",
              "      <td>1</td>\n",
              "      <td>...</td>\n",
              "      <td>NaN</td>\n",
              "      <td>Pucca</td>\n",
              "      <td>NaN</td>\n",
              "      <td>Commercial</td>\n",
              "      <td>NaN</td>\n",
              "      <td>Shop</td>\n",
              "      <td>NaN</td>\n",
              "      <td>1</td>\n",
              "      <td>NaN</td>\n",
              "      <td>https://api.mwater.co/v3/images/d576c4f127c245...</td>\n",
              "    </tr>\n",
              "    <tr>\n",
              "      <th>1</th>\n",
              "      <td>Building Identification Survey</td>\n",
              "      <td>DSK_Bldg_EN 7</td>\n",
              "      <td>Final</td>\n",
              "      <td>DSK_Bldg_EN 7-BYXXE3</td>\n",
              "      <td>2/4/2024 10:32</td>\n",
              "      <td>2/4/2024 10:33</td>\n",
              "      <td>NaN</td>\n",
              "      <td>NaN</td>\n",
              "      <td>0</td>\n",
              "      <td>1</td>\n",
              "      <td>...</td>\n",
              "      <td>NaN</td>\n",
              "      <td>Pucca</td>\n",
              "      <td>NaN</td>\n",
              "      <td>Mixed</td>\n",
              "      <td>NaN</td>\n",
              "      <td>NaN</td>\n",
              "      <td>NaN</td>\n",
              "      <td>2</td>\n",
              "      <td>NaN</td>\n",
              "      <td>https://api.mwater.co/v3/images/d61063d6cd8e44...</td>\n",
              "    </tr>\n",
              "    <tr>\n",
              "      <th>2</th>\n",
              "      <td>Building Identification Survey</td>\n",
              "      <td>DSK_Bldg_EN 7</td>\n",
              "      <td>Final</td>\n",
              "      <td>DSK_Bldg_EN 7-BYXYST</td>\n",
              "      <td>2/4/2024 10:55</td>\n",
              "      <td>2/4/2024 11:07</td>\n",
              "      <td>NaN</td>\n",
              "      <td>NaN</td>\n",
              "      <td>0</td>\n",
              "      <td>1</td>\n",
              "      <td>...</td>\n",
              "      <td>NaN</td>\n",
              "      <td>Pucca</td>\n",
              "      <td>NaN</td>\n",
              "      <td>Commercial</td>\n",
              "      <td>NaN</td>\n",
              "      <td>Shop</td>\n",
              "      <td>NaN</td>\n",
              "      <td>1</td>\n",
              "      <td>NaN</td>\n",
              "      <td>https://api.mwater.co/v3/images/06058f54b2ed4c...</td>\n",
              "    </tr>\n",
              "    <tr>\n",
              "      <th>3</th>\n",
              "      <td>Building Identification Survey</td>\n",
              "      <td>DSK_Bldg_EN 12</td>\n",
              "      <td>Final</td>\n",
              "      <td>DSK_Bldg_EN 12-BYXUDK</td>\n",
              "      <td>2/4/2024 9:40</td>\n",
              "      <td>2/5/2024 7:16</td>\n",
              "      <td>NaN</td>\n",
              "      <td>NaN</td>\n",
              "      <td>0</td>\n",
              "      <td>1</td>\n",
              "      <td>...</td>\n",
              "      <td>NaN</td>\n",
              "      <td>Pucca</td>\n",
              "      <td>NaN</td>\n",
              "      <td>Residential</td>\n",
              "      <td>NaN</td>\n",
              "      <td>Single Storey House</td>\n",
              "      <td>NaN</td>\n",
              "      <td>1</td>\n",
              "      <td>NaN</td>\n",
              "      <td>https://api.mwater.co/v3/images/f6a85b90538a44...</td>\n",
              "    </tr>\n",
              "    <tr>\n",
              "      <th>4</th>\n",
              "      <td>Building Identification Survey</td>\n",
              "      <td>DSK_Bldg_EN 1</td>\n",
              "      <td>Final</td>\n",
              "      <td>DSK_Bldg_EN 1-BYXWMJ</td>\n",
              "      <td>2/4/2024 10:18</td>\n",
              "      <td>2/5/2024 8:18</td>\n",
              "      <td>NaN</td>\n",
              "      <td>NaN</td>\n",
              "      <td>0</td>\n",
              "      <td>1</td>\n",
              "      <td>...</td>\n",
              "      <td>NaN</td>\n",
              "      <td>Pucca</td>\n",
              "      <td>NaN</td>\n",
              "      <td>Residential</td>\n",
              "      <td>NaN</td>\n",
              "      <td>Single Storey House</td>\n",
              "      <td>NaN</td>\n",
              "      <td>1</td>\n",
              "      <td>NaN</td>\n",
              "      <td>https://api.mwater.co/v3/images/7fda43848ca744...</td>\n",
              "    </tr>\n",
              "  </tbody>\n",
              "</table>\n",
              "<p>5 rows × 31 columns</p>\n",
              "</div>\n",
              "    <div class=\"colab-df-buttons\">\n",
              "\n",
              "  <div class=\"colab-df-container\">\n",
              "    <button class=\"colab-df-convert\" onclick=\"convertToInteractive('df-756db053-c7b2-474c-bc86-e9680d7044c4')\"\n",
              "            title=\"Convert this dataframe to an interactive table.\"\n",
              "            style=\"display:none;\">\n",
              "\n",
              "  <svg xmlns=\"http://www.w3.org/2000/svg\" height=\"24px\" viewBox=\"0 -960 960 960\">\n",
              "    <path d=\"M120-120v-720h720v720H120Zm60-500h600v-160H180v160Zm220 220h160v-160H400v160Zm0 220h160v-160H400v160ZM180-400h160v-160H180v160Zm440 0h160v-160H620v160ZM180-180h160v-160H180v160Zm440 0h160v-160H620v160Z\"/>\n",
              "  </svg>\n",
              "    </button>\n",
              "\n",
              "  <style>\n",
              "    .colab-df-container {\n",
              "      display:flex;\n",
              "      gap: 12px;\n",
              "    }\n",
              "\n",
              "    .colab-df-convert {\n",
              "      background-color: #E8F0FE;\n",
              "      border: none;\n",
              "      border-radius: 50%;\n",
              "      cursor: pointer;\n",
              "      display: none;\n",
              "      fill: #1967D2;\n",
              "      height: 32px;\n",
              "      padding: 0 0 0 0;\n",
              "      width: 32px;\n",
              "    }\n",
              "\n",
              "    .colab-df-convert:hover {\n",
              "      background-color: #E2EBFA;\n",
              "      box-shadow: 0px 1px 2px rgba(60, 64, 67, 0.3), 0px 1px 3px 1px rgba(60, 64, 67, 0.15);\n",
              "      fill: #174EA6;\n",
              "    }\n",
              "\n",
              "    .colab-df-buttons div {\n",
              "      margin-bottom: 4px;\n",
              "    }\n",
              "\n",
              "    [theme=dark] .colab-df-convert {\n",
              "      background-color: #3B4455;\n",
              "      fill: #D2E3FC;\n",
              "    }\n",
              "\n",
              "    [theme=dark] .colab-df-convert:hover {\n",
              "      background-color: #434B5C;\n",
              "      box-shadow: 0px 1px 3px 1px rgba(0, 0, 0, 0.15);\n",
              "      filter: drop-shadow(0px 1px 2px rgba(0, 0, 0, 0.3));\n",
              "      fill: #FFFFFF;\n",
              "    }\n",
              "  </style>\n",
              "\n",
              "    <script>\n",
              "      const buttonEl =\n",
              "        document.querySelector('#df-756db053-c7b2-474c-bc86-e9680d7044c4 button.colab-df-convert');\n",
              "      buttonEl.style.display =\n",
              "        google.colab.kernel.accessAllowed ? 'block' : 'none';\n",
              "\n",
              "      async function convertToInteractive(key) {\n",
              "        const element = document.querySelector('#df-756db053-c7b2-474c-bc86-e9680d7044c4');\n",
              "        const dataTable =\n",
              "          await google.colab.kernel.invokeFunction('convertToInteractive',\n",
              "                                                    [key], {});\n",
              "        if (!dataTable) return;\n",
              "\n",
              "        const docLinkHtml = 'Like what you see? Visit the ' +\n",
              "          '<a target=\"_blank\" href=https://colab.research.google.com/notebooks/data_table.ipynb>data table notebook</a>'\n",
              "          + ' to learn more about interactive tables.';\n",
              "        element.innerHTML = '';\n",
              "        dataTable['output_type'] = 'display_data';\n",
              "        await google.colab.output.renderOutput(dataTable, element);\n",
              "        const docLink = document.createElement('div');\n",
              "        docLink.innerHTML = docLinkHtml;\n",
              "        element.appendChild(docLink);\n",
              "      }\n",
              "    </script>\n",
              "  </div>\n",
              "\n",
              "\n",
              "<div id=\"df-e1c1f12c-42dd-4997-a61c-6b9fcce3d47f\">\n",
              "  <button class=\"colab-df-quickchart\" onclick=\"quickchart('df-e1c1f12c-42dd-4997-a61c-6b9fcce3d47f')\"\n",
              "            title=\"Suggest charts\"\n",
              "            style=\"display:none;\">\n",
              "\n",
              "<svg xmlns=\"http://www.w3.org/2000/svg\" height=\"24px\"viewBox=\"0 0 24 24\"\n",
              "     width=\"24px\">\n",
              "    <g>\n",
              "        <path d=\"M19 3H5c-1.1 0-2 .9-2 2v14c0 1.1.9 2 2 2h14c1.1 0 2-.9 2-2V5c0-1.1-.9-2-2-2zM9 17H7v-7h2v7zm4 0h-2V7h2v10zm4 0h-2v-4h2v4z\"/>\n",
              "    </g>\n",
              "</svg>\n",
              "  </button>\n",
              "\n",
              "<style>\n",
              "  .colab-df-quickchart {\n",
              "      --bg-color: #E8F0FE;\n",
              "      --fill-color: #1967D2;\n",
              "      --hover-bg-color: #E2EBFA;\n",
              "      --hover-fill-color: #174EA6;\n",
              "      --disabled-fill-color: #AAA;\n",
              "      --disabled-bg-color: #DDD;\n",
              "  }\n",
              "\n",
              "  [theme=dark] .colab-df-quickchart {\n",
              "      --bg-color: #3B4455;\n",
              "      --fill-color: #D2E3FC;\n",
              "      --hover-bg-color: #434B5C;\n",
              "      --hover-fill-color: #FFFFFF;\n",
              "      --disabled-bg-color: #3B4455;\n",
              "      --disabled-fill-color: #666;\n",
              "  }\n",
              "\n",
              "  .colab-df-quickchart {\n",
              "    background-color: var(--bg-color);\n",
              "    border: none;\n",
              "    border-radius: 50%;\n",
              "    cursor: pointer;\n",
              "    display: none;\n",
              "    fill: var(--fill-color);\n",
              "    height: 32px;\n",
              "    padding: 0;\n",
              "    width: 32px;\n",
              "  }\n",
              "\n",
              "  .colab-df-quickchart:hover {\n",
              "    background-color: var(--hover-bg-color);\n",
              "    box-shadow: 0 1px 2px rgba(60, 64, 67, 0.3), 0 1px 3px 1px rgba(60, 64, 67, 0.15);\n",
              "    fill: var(--button-hover-fill-color);\n",
              "  }\n",
              "\n",
              "  .colab-df-quickchart-complete:disabled,\n",
              "  .colab-df-quickchart-complete:disabled:hover {\n",
              "    background-color: var(--disabled-bg-color);\n",
              "    fill: var(--disabled-fill-color);\n",
              "    box-shadow: none;\n",
              "  }\n",
              "\n",
              "  .colab-df-spinner {\n",
              "    border: 2px solid var(--fill-color);\n",
              "    border-color: transparent;\n",
              "    border-bottom-color: var(--fill-color);\n",
              "    animation:\n",
              "      spin 1s steps(1) infinite;\n",
              "  }\n",
              "\n",
              "  @keyframes spin {\n",
              "    0% {\n",
              "      border-color: transparent;\n",
              "      border-bottom-color: var(--fill-color);\n",
              "      border-left-color: var(--fill-color);\n",
              "    }\n",
              "    20% {\n",
              "      border-color: transparent;\n",
              "      border-left-color: var(--fill-color);\n",
              "      border-top-color: var(--fill-color);\n",
              "    }\n",
              "    30% {\n",
              "      border-color: transparent;\n",
              "      border-left-color: var(--fill-color);\n",
              "      border-top-color: var(--fill-color);\n",
              "      border-right-color: var(--fill-color);\n",
              "    }\n",
              "    40% {\n",
              "      border-color: transparent;\n",
              "      border-right-color: var(--fill-color);\n",
              "      border-top-color: var(--fill-color);\n",
              "    }\n",
              "    60% {\n",
              "      border-color: transparent;\n",
              "      border-right-color: var(--fill-color);\n",
              "    }\n",
              "    80% {\n",
              "      border-color: transparent;\n",
              "      border-right-color: var(--fill-color);\n",
              "      border-bottom-color: var(--fill-color);\n",
              "    }\n",
              "    90% {\n",
              "      border-color: transparent;\n",
              "      border-bottom-color: var(--fill-color);\n",
              "    }\n",
              "  }\n",
              "</style>\n",
              "\n",
              "  <script>\n",
              "    async function quickchart(key) {\n",
              "      const quickchartButtonEl =\n",
              "        document.querySelector('#' + key + ' button');\n",
              "      quickchartButtonEl.disabled = true;  // To prevent multiple clicks.\n",
              "      quickchartButtonEl.classList.add('colab-df-spinner');\n",
              "      try {\n",
              "        const charts = await google.colab.kernel.invokeFunction(\n",
              "            'suggestCharts', [key], {});\n",
              "      } catch (error) {\n",
              "        console.error('Error during call to suggestCharts:', error);\n",
              "      }\n",
              "      quickchartButtonEl.classList.remove('colab-df-spinner');\n",
              "      quickchartButtonEl.classList.add('colab-df-quickchart-complete');\n",
              "    }\n",
              "    (() => {\n",
              "      let quickchartButtonEl =\n",
              "        document.querySelector('#df-e1c1f12c-42dd-4997-a61c-6b9fcce3d47f button');\n",
              "      quickchartButtonEl.style.display =\n",
              "        google.colab.kernel.accessAllowed ? 'block' : 'none';\n",
              "    })();\n",
              "  </script>\n",
              "</div>\n",
              "\n",
              "    </div>\n",
              "  </div>\n"
            ],
            "application/vnd.google.colaboratory.intrinsic+json": {
              "type": "dataframe",
              "variable_name": "data"
            }
          },
          "metadata": {},
          "execution_count": 5
        }
      ]
    },
    {
      "cell_type": "code",
      "source": [
        "data.info()"
      ],
      "metadata": {
        "colab": {
          "base_uri": "https://localhost:8080/"
        },
        "id": "18sW5LOk2B9t",
        "outputId": "3233567a-5de7-4ba8-9787-493399f39122"
      },
      "execution_count": 6,
      "outputs": [
        {
          "output_type": "stream",
          "name": "stdout",
          "text": [
            "<class 'pandas.core.frame.DataFrame'>\n",
            "RangeIndex: 31072 entries, 0 to 31071\n",
            "Data columns (total 31 columns):\n",
            " #   Column                                                                                       Non-Null Count  Dtype  \n",
            "---  ------                                                                                       --------------  -----  \n",
            " 0   Deployment                                                                                   31072 non-null  object \n",
            " 1   Enumerator                                                                                   31072 non-null  object \n",
            " 2   Status                                                                                       31072 non-null  object \n",
            " 3   Response Code                                                                                31072 non-null  object \n",
            " 4   Drafted On                                                                                   31072 non-null  object \n",
            " 5   Submitted On                                                                                 31072 non-null  object \n",
            " 6   Approval Level                                                                               0 non-null      float64\n",
            " 7   Rejection message                                                                            102 non-null    object \n",
            " 8   Number of Rejections                                                                         31072 non-null  int64  \n",
            " 9   Number of Edits                                                                              31072 non-null  int64  \n",
            " 10  IP Address                                                                                   31072 non-null  object \n",
            " 11  Grid No (1)                                                                                  31072 non-null  object \n",
            " 12  Grid No (2)                                                                                  43 non-null     float64\n",
            " 13  Is there a building?                                                                         31072 non-null  object \n",
            " 14  Building Code (1)                                                                            31072 non-null  object \n",
            " 15  Building Code (2)                                                                            42 non-null     float64\n",
            " 16  Location of the Building (latitude)                                                          31069 non-null  float64\n",
            " 17  Location of the Building (longitude)                                                         31069 non-null  float64\n",
            " 18  Location of the Building (method)                                                            31069 non-null  object \n",
            " 19  Location of the Building (administrative region)                                             31069 non-null  object \n",
            " 20  Location of the Building (accuracy)                                                          2117 non-null   float64\n",
            " 21  Location of the Building (altitude)                                                          1834 non-null   float64\n",
            " 22  What is the type of building?                                                                26721 non-null  object \n",
            " 23  What is the type of building? (Other (please specify)) - specify                             87 non-null     object \n",
            " 24  Building Category                                                                            26735 non-null  object \n",
            " 25  Building Category (Other (please specify)) - specify                                         503 non-null    object \n",
            " 26  Uses of Holding                                                                              25576 non-null  object \n",
            " 27  Uses of Holding (Other (please specify)) - specify                                           484 non-null    object \n",
            " 28  No of floors/storey of the building                                                          26734 non-null  object \n",
            " 29  No of floors/storey of the building (If number of floor > 12, mention the number) - specify  2 non-null      float64\n",
            " 30  Take a photo of the building.                                                                31055 non-null  object \n",
            "dtypes: float64(8), int64(2), object(21)\n",
            "memory usage: 7.3+ MB\n"
          ]
        }
      ]
    },
    {
      "cell_type": "code",
      "source": [
        "areas = set(data['Grid No (1)'])     # Understanding No of Grids to be analysed\n",
        "len(areas)"
      ],
      "metadata": {
        "id": "lR-qj8Wz_RcR",
        "colab": {
          "base_uri": "https://localhost:8080/"
        },
        "outputId": "26d769c3-84ca-4060-de8c-620f53f94368"
      },
      "execution_count": 7,
      "outputs": [
        {
          "output_type": "execute_result",
          "data": {
            "text/plain": [
              "260"
            ]
          },
          "metadata": {},
          "execution_count": 7
        }
      ]
    },
    {
      "cell_type": "code",
      "source": [
        "print(dict(data['Grid No (1)'].value_counts()))                # Understanding Gridwise Distribution of Dataset"
      ],
      "metadata": {
        "colab": {
          "base_uri": "https://localhost:8080/"
        },
        "id": "OOqHp9QD_X8P",
        "outputId": "b4f52433-999b-4da5-a9a5-4b088afcb894"
      },
      "execution_count": 8,
      "outputs": [
        {
          "output_type": "stream",
          "name": "stdout",
          "text": [
            "{'H16': 583, 'H17': 570, 'G18': 502, 'J23': 421, 'G17': 410, 'E10': 393, 'J22': 382, 'J20': 375, 'K23': 373, 'K22': 371, 'H15': 365, 'J21': 350, 'G15': 346, 'H06': 329, 'L17': 326, 'I14': 324, 'G07': 321, 'O17': 315, 'I15': 315, 'I22': 314, 'G16': 312, 'G06': 299, 'D09': 298, 'I20': 293, 'L18': 290, 'H23': 289, 'N17': 287, 'H12': 283, 'F15': 277, 'Q17': 269, 'I13': 260, 'H13': 258, 'H21': 256, 'E09': 255, 'J14': 255, 'H18': 253, 'H07': 234, 'K18': 233, 'F04': 229, 'F05': 224, 'M24': 217, 'K10': 214, 'I23': 214, 'I12': 214, 'J10': 213, 'E08': 211, 'G19': 210, 'M16': 206, 'N16': 206, 'D06': 205, 'O16': 205, 'J11': 204, 'F06': 204, 'F11': 203, 'C09': 199, 'I21': 198, 'Q18': 196, 'P17': 195, 'H14': 194, 'H08': 194, 'J05': 193, 'K21': 191, 'E06': 190, 'D07': 185, 'L25': 184, 'I09': 181, 'F07': 180, 'K16': 180, 'L16': 179, 'J18': 179, 'P18': 179, 'K17': 169, 'R17': 169, 'C07': 167, 'F16': 167, 'H22': 167, 'G11': 165, 'J15': 163, 'G10': 162, 'K20': 162, 'F12': 158, 'I18': 157, 'F10': 155, 'H10': 154, 'S14': 152, 'I05': 152, 'P15': 150, 'F13': 149, 'F03': 147, 'I17': 146, 'H11': 144, 'N15': 144, 'G08': 143, 'P14': 142, 'I16': 139, 'J09': 139, 'D05': 136, 'J19': 135, 'J16': 135, 'C06': 134, 'G05': 132, 'E05': 129, 'F14': 128, 'K05': 125, 'I11': 122, 'J17': 121, 'D08': 118, 'N13': 118, 'M15': 117, 'H19': 117, 'H04': 115, 'H09': 115, 'K06': 113, 'E03': 112, 'H05': 112, 'G04': 111, 'H20': 111, 'G13': 110, 'P16': 109, 'Q13': 106, 'R16': 104, 'F09': 100, 'E04': 100, 'K08': 97, 'D10': 97, 'G09': 96, 'K24': 95, 'J06': 91, 'I06': 91, 'L15': 90, 'S15': 89, 'M17': 89, 'D03': 87, 'R15': 87, 'O15': 85, 'Q15': 84, 'Q16': 83, 'J04': 81, 'G12': 80, 'C08': 79, 'F08': 78, 'L04': 78, 'I08': 77, 'G23': 76, 'M25': 76, 'K19': 76, 'J08': 74, 'O18': 73, 'Q14': 71, 'E07': 71, 'D04': 70, 'L24': 68, 'G14': 67, 'K15': 63, 'R14': 62, 'G21': 62, 'K07': 60, 'B05': 59, 'M14': 59, 'G16 ': 57, 'K09': 56, 'I10': 55, 'M22': 55, 'I02': 52, 'P19': 51, 'B04': 51, 'R18': 51, 'M23': 50, 'J07': 50, 'I19': 49, 'P13': 49, 'L05': 44, 'O14': 43, 'L23': 43, 'G03': 42, 'O13': 41, 'A04': 39, 'I04': 37, 'S17': 37, 'I03': 36, 'K11': 35, 'J02': 35, 'A05': 35, 'J12': 35, 'E12': 35, 'B06': 34, 'B09': 33, 'N14': 32, 'B10': 31, 'R13': 31, 'I07': 29, 'M20': 29, 'L22': 29, 'F18': 28, 'F19': 28, 'G24': 27, 'M18': 27, 'E11': 25, 'M21': 25, 'C03': 25, 'C05': 23, 'B08': 21, 'N19': 21, 'C04': 21, 'N18': 20, 'N20': 19, 'G02': 16, 'D02': 16, 'L21': 15, 'Q12': 15, 'S16': 14, 'K04': 13, 'L20': 13, 'C10': 13, 'A03': 13, 'Q19': 13, 'J13': 11, 'F02': 11, 'L03': 11, 'M19': 10, 'E16': 9, 'J03': 9, 'L10': 9, 'L19': 9, 'O19': 9, 'S13': 9, 'B07': 7, 'M13': 6, 'L08': 6, 'L14': 6, 'G22': 5, 'O20': 5, 'K14': 4, 'A09': 4, 'N12': 4, 'L06': 3, 'E15': 3, 'K03': 3, 'G08 ': 2, 'B03 ': 2, 'N24': 2, 'L09': 2, 'F20': 2, 'K12': 1, 'G17 ': 1, ' G17': 1, ' G15': 1, 'J3': 1, 'G15 ': 1, 'B03': 1, ' N15': 1, 'H22 ': 1, 'B04 ': 1, 'C70': 1, 'Co8': 1, 'I8': 1, ' F05': 1, 'J24': 1, ' F12': 1, 'B09 ': 1}\n"
          ]
        }
      ]
    },
    {
      "cell_type": "markdown",
      "source": [
        "### **Data Cleaning**"
      ],
      "metadata": {
        "id": "W3WQ6tlQ2Sjt"
      }
    },
    {
      "cell_type": "code",
      "source": [
        "# Drop rows with null values in 'Building Code (1)' column\n",
        "data = data.dropna(subset=['Building Code (1)'])\n",
        "\n",
        "# Filtering rows with PSUIDS having only numeric values\n",
        "data = data[data['Building Code (1)'].astype(str).str.match('^\\d+$')]"
      ],
      "metadata": {
        "id": "OqxMGiEqeYLB"
      },
      "execution_count": 9,
      "outputs": []
    },
    {
      "cell_type": "markdown",
      "source": [
        "### **To Dictionary**"
      ],
      "metadata": {
        "id": "12-vUf0pXbkU"
      }
    },
    {
      "cell_type": "code",
      "execution_count": 10,
      "metadata": {
        "id": "pplWQ_Ds7X5q"
      },
      "outputs": [],
      "source": [
        "# Sorting the responses according to the grid number for easy computation\n",
        "\n",
        "grid_no_dataframes = {}                                                              # Dictionary to store gridwise distribution of the data\n",
        "\n",
        "# Iterate over unique Grid No\n",
        "for area in data['Grid No (1)'].unique():\n",
        "    # Filter dataframe for the current Grid\n",
        "    grid_no_df = data[data['Grid No (1)'] == area]\n",
        "\n",
        "    # Store the filtered dataframe in the dictionary\n",
        "    grid_no_dataframes[area] = grid_no_df"
      ]
    },
    {
      "cell_type": "markdown",
      "source": [
        "###**Missing and Duplicated Data**"
      ],
      "metadata": {
        "id": "A9zoNSuCZZZu"
      }
    },
    {
      "cell_type": "code",
      "source": [
        "duplicate_dataframe = {}                             # dataframe to store duplicate PSU IDs\n",
        "missing_dataframe = {}                               # dataframe to store misssing PSU IDs\n",
        "\n",
        "for area in grid_no_dataframes:\n",
        "    count = 0\n",
        "    dataframe_for_area = grid_no_dataframes[area]          # Accessing the dataframe for the current area\n",
        "\n",
        "    duplicate_counts = dataframe_for_area['Building Code (1)'].value_counts()\n",
        "    duplicate_values = duplicate_counts[duplicate_counts > 1]              # Finding Duplicate values\n",
        "\n",
        "    duplicate_df = pd.DataFrame({'Duplicate Values': duplicate_values.index, 'Count': duplicate_values.values})\n",
        "    duplicate_dataframe[area] = duplicate_df\n",
        "\n",
        "    area_data = df[df['GRID_ID'] == area]                       # Accessing total number of PSU ID to be surveyed in a particular Grid\n",
        "    if not area_data.empty:\n",
        "      count = int(area_data['BUILDINGS'].iloc[0])\n",
        "\n",
        "    count = count + 1\n",
        "    reference_list = list(range(1, count))                                     # AS the PSU ID are numbered 1 to n for a particular grid creating a list for comparing\n",
        "    buid_code_surveyed = dataframe_for_area['Building Code (1)'].astype(int)\n",
        "    missing_numbers = list(set(reference_list) - set(buid_code_surveyed))      # Finding missing number for a particular grid\n",
        "    missing_numbers_df = pd.DataFrame({'Missing_Number': missing_numbers})\n",
        "    missing_dataframe[area] = missing_numbers_df"
      ],
      "metadata": {
        "id": "XrgS7BGtFT68"
      },
      "execution_count": null,
      "outputs": []
    },
    {
      "cell_type": "markdown",
      "source": [
        "### **Extracting Duplicated Data**"
      ],
      "metadata": {
        "id": "NVVe2htpZtC-"
      }
    },
    {
      "cell_type": "code",
      "source": [
        "Duplicate_all_data = {}\n",
        "\n",
        "for area, dup_df in duplicate_dataframe.items():                                                # Iterating through each grid\n",
        "    grid_df = grid_no_dataframes.get(area)                                                      # Accessing the dataframe for the current area\n",
        "\n",
        "    if grid_df is not None:\n",
        "        filtered_grid_df = grid_df[grid_df['Building Code (1)'].isin(dup_df['Duplicate Values'])]\n",
        "        merged_df = pd.merge(dup_df, filtered_grid_df, left_on='Duplicate Values', right_on='Building Code (1)', how='inner')   # Extracting all information of Duplicate Building code IDs\n",
        "        Duplicate_all_data[area] = merged_df\n"
      ],
      "metadata": {
        "id": "2fu7b7TY4yTa"
      },
      "execution_count": null,
      "outputs": []
    },
    {
      "cell_type": "code",
      "source": [
        "all_data_duplicate = pd.concat(Duplicate_all_data.values(), ignore_index=True)\n",
        "\n",
        "excel_writer = pd.ExcelWriter('duplicate_data.xlsx')    # Creating an Excel writer object\n",
        "all_data_duplicate.to_excel(excel_writer, sheet_name='Duplicate_Data', index=False)\n",
        "excel_writer.save()\n",
        "\n",
        "from google.colab import files                            # Download the Excel file\n",
        "files.download('duplicate_data.xlsx')\n"
      ],
      "metadata": {
        "colab": {
          "base_uri": "https://localhost:8080/",
          "height": 53
        },
        "id": "PsxYFGNAADPr",
        "outputId": "2d124805-25c2-44fa-981d-184a6a604452"
      },
      "execution_count": null,
      "outputs": [
        {
          "output_type": "stream",
          "name": "stderr",
          "text": [
            "<ipython-input-46-51189c8572e0>:15: FutureWarning: save is not part of the public API, usage can give unexpected results and will be removed in a future version\n",
            "  excel_writer.save()\n"
          ]
        },
        {
          "output_type": "display_data",
          "data": {
            "text/plain": [
              "<IPython.core.display.Javascript object>"
            ],
            "application/javascript": [
              "\n",
              "    async function download(id, filename, size) {\n",
              "      if (!google.colab.kernel.accessAllowed) {\n",
              "        return;\n",
              "      }\n",
              "      const div = document.createElement('div');\n",
              "      const label = document.createElement('label');\n",
              "      label.textContent = `Downloading \"${filename}\": `;\n",
              "      div.appendChild(label);\n",
              "      const progress = document.createElement('progress');\n",
              "      progress.max = size;\n",
              "      div.appendChild(progress);\n",
              "      document.body.appendChild(div);\n",
              "\n",
              "      const buffers = [];\n",
              "      let downloaded = 0;\n",
              "\n",
              "      const channel = await google.colab.kernel.comms.open(id);\n",
              "      // Send a message to notify the kernel that we're ready.\n",
              "      channel.send({})\n",
              "\n",
              "      for await (const message of channel.messages) {\n",
              "        // Send a message to notify the kernel that we're ready.\n",
              "        channel.send({})\n",
              "        if (message.buffers) {\n",
              "          for (const buffer of message.buffers) {\n",
              "            buffers.push(buffer);\n",
              "            downloaded += buffer.byteLength;\n",
              "            progress.value = downloaded;\n",
              "          }\n",
              "        }\n",
              "      }\n",
              "      const blob = new Blob(buffers, {type: 'application/binary'});\n",
              "      const a = document.createElement('a');\n",
              "      a.href = window.URL.createObjectURL(blob);\n",
              "      a.download = filename;\n",
              "      div.appendChild(a);\n",
              "      a.click();\n",
              "      div.remove();\n",
              "    }\n",
              "  "
            ]
          },
          "metadata": {}
        },
        {
          "output_type": "display_data",
          "data": {
            "text/plain": [
              "<IPython.core.display.Javascript object>"
            ],
            "application/javascript": [
              "download(\"download_257b4cc1-09b6-46f0-b212-fcf840a3d896\", \"duplicate_data.xlsx\", 297241)"
            ]
          },
          "metadata": {}
        }
      ]
    },
    {
      "cell_type": "markdown",
      "source": [
        "### **Extracting Unique Data**"
      ],
      "metadata": {
        "id": "2lNmRQtjZ1j-"
      }
    },
    {
      "cell_type": "code",
      "source": [
        "new_dictionary = {}\n",
        "\n",
        "for area, df_building in grid_no_dataframes.items():\n",
        "    df_duplicate = duplicate_dataframe.get(area)\n",
        "    if df_duplicate is not None:\n",
        "        building_values = set(df_building['Building Code (1)'])\n",
        "        duplicate_values = set(df_duplicate['Duplicate Values'])\n",
        "        filtered_values = building_values.difference(duplicate_values)                        # Finding Building Codes that appers only once for a particular grid\n",
        "        filtered_df = df_building[df_building['Building Code (1)'].isin(filtered_values)]\n",
        "        new_dictionary[area] = filtered_df"
      ],
      "metadata": {
        "id": "6HQiSJBcDogI"
      },
      "execution_count": null,
      "outputs": []
    },
    {
      "cell_type": "code",
      "source": [
        "all_data = pd.concat(new_dictionary.values(), ignore_index=True)\n",
        "\n",
        "excel_writer = pd.ExcelWriter('all_data.xlsx')\n",
        "all_data.to_excel(excel_writer, sheet_name='All_Data', index=False)\n",
        "excel_writer.save()\n",
        "\n",
        "# Download the Excel file\n",
        "from google.colab import files\n",
        "files.download('all_data.xlsx')\n"
      ],
      "metadata": {
        "colab": {
          "base_uri": "https://localhost:8080/",
          "height": 53
        },
        "id": "LdwpPRxuHoIP",
        "outputId": "998501e6-8824-4a00-855e-65998138fb07"
      },
      "execution_count": null,
      "outputs": [
        {
          "output_type": "stream",
          "name": "stderr",
          "text": [
            "<ipython-input-48-187c42503734>:15: FutureWarning: save is not part of the public API, usage can give unexpected results and will be removed in a future version\n",
            "  excel_writer.save()\n"
          ]
        },
        {
          "output_type": "display_data",
          "data": {
            "text/plain": [
              "<IPython.core.display.Javascript object>"
            ],
            "application/javascript": [
              "\n",
              "    async function download(id, filename, size) {\n",
              "      if (!google.colab.kernel.accessAllowed) {\n",
              "        return;\n",
              "      }\n",
              "      const div = document.createElement('div');\n",
              "      const label = document.createElement('label');\n",
              "      label.textContent = `Downloading \"${filename}\": `;\n",
              "      div.appendChild(label);\n",
              "      const progress = document.createElement('progress');\n",
              "      progress.max = size;\n",
              "      div.appendChild(progress);\n",
              "      document.body.appendChild(div);\n",
              "\n",
              "      const buffers = [];\n",
              "      let downloaded = 0;\n",
              "\n",
              "      const channel = await google.colab.kernel.comms.open(id);\n",
              "      // Send a message to notify the kernel that we're ready.\n",
              "      channel.send({})\n",
              "\n",
              "      for await (const message of channel.messages) {\n",
              "        // Send a message to notify the kernel that we're ready.\n",
              "        channel.send({})\n",
              "        if (message.buffers) {\n",
              "          for (const buffer of message.buffers) {\n",
              "            buffers.push(buffer);\n",
              "            downloaded += buffer.byteLength;\n",
              "            progress.value = downloaded;\n",
              "          }\n",
              "        }\n",
              "      }\n",
              "      const blob = new Blob(buffers, {type: 'application/binary'});\n",
              "      const a = document.createElement('a');\n",
              "      a.href = window.URL.createObjectURL(blob);\n",
              "      a.download = filename;\n",
              "      div.appendChild(a);\n",
              "      a.click();\n",
              "      div.remove();\n",
              "    }\n",
              "  "
            ]
          },
          "metadata": {}
        },
        {
          "output_type": "display_data",
          "data": {
            "text/plain": [
              "<IPython.core.display.Javascript object>"
            ],
            "application/javascript": [
              "download(\"download_f7144148-9884-4c1b-89c3-4e7fbeea37f7\", \"all_data.xlsx\", 4739216)"
            ]
          },
          "metadata": {}
        }
      ]
    },
    {
      "cell_type": "markdown",
      "source": [
        "### **Extracting Missing Data**"
      ],
      "metadata": {
        "id": "VoIRUuAUaHfW"
      }
    },
    {
      "cell_type": "code",
      "source": [
        "location = pd.read_excel(\"AllBuildingCenters locations (BIS).xlsx\")     # importing excel storing locations of all  Proposed Building Codes"
      ],
      "metadata": {
        "id": "3M6SDuERSvLA"
      },
      "execution_count": null,
      "outputs": []
    },
    {
      "cell_type": "code",
      "source": [
        "location.columns"
      ],
      "metadata": {
        "colab": {
          "base_uri": "https://localhost:8080/"
        },
        "id": "Ok4lO2JKUVoQ",
        "outputId": "37fd6cb5-8936-4241-a860-272521720b02"
      },
      "execution_count": null,
      "outputs": [
        {
          "output_type": "execute_result",
          "data": {
            "text/plain": [
              "Index(['Survey Sheet No.', 'UID', 'latitude', 'longitude'], dtype='object')"
            ]
          },
          "metadata": {},
          "execution_count": 50
        }
      ]
    },
    {
      "cell_type": "code",
      "source": [
        "all_location = {}\n",
        "\n",
        "for area in location['Survey Sheet No.'].unique():\n",
        "    grid_no_df = location[location['Survey Sheet No.'] == area]\n",
        "    all_location[area] = grid_no_df"
      ],
      "metadata": {
        "id": "0q5iUnLGUVrt"
      },
      "execution_count": null,
      "outputs": []
    },
    {
      "cell_type": "code",
      "source": [
        "miss_dictionary = {}\n",
        "\n",
        "for area, df_building in all_location.items():\n",
        "    df_miss = missing_dataframe.get(area)\n",
        "    if df_miss is not None:\n",
        "        building_values = set(df_building['UID'])\n",
        "        duplicate_values = set(df_miss['Missing_Number'])\n",
        "        filtered_df = df_building[df_building['UID'].isin(duplicate_values)]\n",
        "        miss_dictionary[area] = filtered_df"
      ],
      "metadata": {
        "id": "vduYKs9aSMRj"
      },
      "execution_count": null,
      "outputs": []
    },
    {
      "cell_type": "code",
      "source": [
        "all_data_missing = pd.concat(miss_dictionary.values(), ignore_index=True)\n",
        "\n",
        "excel_writer = pd.ExcelWriter('missing_data.xlsx')\n",
        "all_data_missing.to_excel(excel_writer, sheet_name='All_Data', index=False)\n",
        "excel_writer.save()\n",
        "\n",
        "# Download the Excel file\n",
        "from google.colab import files\n",
        "files.download('missing_data.xlsx')"
      ],
      "metadata": {
        "colab": {
          "base_uri": "https://localhost:8080/",
          "height": 53
        },
        "id": "xy4LbYZQcpVF",
        "outputId": "ab25bda6-7853-444b-d1e4-5d8e1c17820e"
      },
      "execution_count": null,
      "outputs": [
        {
          "output_type": "stream",
          "name": "stderr",
          "text": [
            "<ipython-input-53-9bc08b142d08>:10: FutureWarning: save is not part of the public API, usage can give unexpected results and will be removed in a future version\n",
            "  excel_writer.save()\n"
          ]
        },
        {
          "output_type": "display_data",
          "data": {
            "text/plain": [
              "<IPython.core.display.Javascript object>"
            ],
            "application/javascript": [
              "\n",
              "    async function download(id, filename, size) {\n",
              "      if (!google.colab.kernel.accessAllowed) {\n",
              "        return;\n",
              "      }\n",
              "      const div = document.createElement('div');\n",
              "      const label = document.createElement('label');\n",
              "      label.textContent = `Downloading \"${filename}\": `;\n",
              "      div.appendChild(label);\n",
              "      const progress = document.createElement('progress');\n",
              "      progress.max = size;\n",
              "      div.appendChild(progress);\n",
              "      document.body.appendChild(div);\n",
              "\n",
              "      const buffers = [];\n",
              "      let downloaded = 0;\n",
              "\n",
              "      const channel = await google.colab.kernel.comms.open(id);\n",
              "      // Send a message to notify the kernel that we're ready.\n",
              "      channel.send({})\n",
              "\n",
              "      for await (const message of channel.messages) {\n",
              "        // Send a message to notify the kernel that we're ready.\n",
              "        channel.send({})\n",
              "        if (message.buffers) {\n",
              "          for (const buffer of message.buffers) {\n",
              "            buffers.push(buffer);\n",
              "            downloaded += buffer.byteLength;\n",
              "            progress.value = downloaded;\n",
              "          }\n",
              "        }\n",
              "      }\n",
              "      const blob = new Blob(buffers, {type: 'application/binary'});\n",
              "      const a = document.createElement('a');\n",
              "      a.href = window.URL.createObjectURL(blob);\n",
              "      a.download = filename;\n",
              "      div.appendChild(a);\n",
              "      a.click();\n",
              "      div.remove();\n",
              "    }\n",
              "  "
            ]
          },
          "metadata": {}
        },
        {
          "output_type": "display_data",
          "data": {
            "text/plain": [
              "<IPython.core.display.Javascript object>"
            ],
            "application/javascript": [
              "download(\"download_2cddbcea-4b1f-4286-a2d8-e6897d1b5bb9\", \"missing_data.xlsx\", 54859)"
            ]
          },
          "metadata": {}
        }
      ]
    }
  ]
}